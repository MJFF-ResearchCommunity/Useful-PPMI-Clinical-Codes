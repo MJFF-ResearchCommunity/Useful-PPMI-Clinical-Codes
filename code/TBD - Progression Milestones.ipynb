{
 "cells": [
  {
   "cell_type": "markdown",
   "metadata": {
    "id": "8woFzbSOyoxy"
   },
   "source": [
    "# Introduction to this Notebook\n",
    "\n",
    "**WARNING:** This notebook isn't currently available. The main idea behind this analysis is to provide a code that can identify patients in 6 different domains of clinical milestones as suggested by this recent article: https://pubmed.ncbi.nlm.nih.gov/37458046/\n",
    "\n",
    "This Jupyter Notebook encompassess a series of scripts written in Python by Daniel Teixeira dos Santos, a Data Community Innovator at the Data Community of Practice ([link to my forum account](https://rcop.michaeljfox.org/u/danieltds/summary)). These scripts were written using Google Colab by accessing local files present in my Google Drive that I downloaded from LONI. These files are linked to the MJFF Research Community's GitHub repository ([link here](https://github.com/MJFF-ResearchCommunity/Useful-PPMI-Clinical-Codes))\n",
    "\n",
    "The goal of these scripts is to provide researchers some relevant clinical data that are extracted in a meaningful way form the data that is already available in PPMI. All the necessary input datasets can be obtained [here](https://ida.loni.usc.edu/pages/access/studyData.jsp?project=PPMI) after applying for registration for access to the PPMI data. All outputs from the analyses were removed to comply with privacy and data sharing principles. Some of these scripts were developed with the help of AI tools such as ChatGPT 4o.\n",
    "\n",
    "This analysis requires two different folders to exist within the main folder. Those are \"data\" and \"priv\". The \"data\" folder is the place where you should store your datasets downloaded from LONI. The priv folder is the one the results will be exported to. These folders will be generated automatically at the beginning of this script, if they don't exist."
   ]
  },
  {
   "cell_type": "markdown",
   "metadata": {
    "id": "GT3aJYfg_HsV"
   },
   "source": [
    "# Importing and Setting Paths"
   ]
  },
  {
   "cell_type": "code",
   "execution_count": null,
   "metadata": {
    "id": "f2U67csL_KgD"
   },
   "outputs": [],
   "source": [
    "import os\n",
    "import pandas as pd\n",
    "import numpy as np\n",
    "import math\n",
    "import glob\n",
    "import warnings\n",
    "\n",
    "# Automatically find the \"Useful PPMI Clinical Codes\" directory\n",
    "CURRENT_DIR = os.getcwd()\n",
    "while not CURRENT_DIR.endswith(\"Useful PPMI Clinical Codes\") and os.path.dirname(CURRENT_DIR) != CURRENT_DIR:\n",
    "    CURRENT_DIR = os.path.dirname(CURRENT_DIR)\n",
    "\n",
    "BASE_DIR = CURRENT_DIR\n",
    "\n",
    "# Define paths for \"data\" and \"report\" directories\n",
    "DATA_DIR = os.path.join(BASE_DIR, \"data\")\n",
    "PRIV_DIR = os.path.join(BASE_DIR, \"priv\")\n",
    "\n",
    "# Ensure both directories exist, create them if not\n",
    "for directory in [DATA_DIR, PRIV_DIR]:\n",
    "    if not os.path.exists(directory):\n",
    "        os.makedirs(directory)\n",
    "        print(f\"Created missing folder: {directory}\")\n",
    "    else:\n",
    "        print(f\"Found folder: {directory}\")\n",
    "\n",
    "# Ignore persistent warnings\n",
    "warnings.simplefilter(\"ignore\", UserWarning)\n",
    "\n",
    "# Configure Pandas for better data visualization\n",
    "pd.set_option('display.max_rows', 250)\n",
    "pd.set_option('display.max_columns', None)\n",
    "pd.set_option('display.width', None)\n",
    "pd.set_option('display.max_colwidth', None)\n",
    "pd.options.display.float_format = \"{:,.3f}\".format\n",
    "\n",
    "# List available files in both directories\n",
    "print(\"Files in data directory:\", os.listdir(DATA_DIR))\n",
    "print(\"Files in priv directory:\", os.listdir(PRIV_DIR))\n"
   ]
  }
 ],
 "metadata": {
  "colab": {
   "authorship_tag": "ABX9TyMI5LItW6Q6uGsdLm7BJvNB",
   "provenance": [],
   "toc_visible": true
  },
  "kernelspec": {
   "display_name": "Python 3 (ipykernel)",
   "language": "python",
   "name": "python3"
  },
  "language_info": {
   "codemirror_mode": {
    "name": "ipython",
    "version": 3
   },
   "file_extension": ".py",
   "mimetype": "text/x-python",
   "name": "python",
   "nbconvert_exporter": "python",
   "pygments_lexer": "ipython3",
   "version": "3.12.0"
  }
 },
 "nbformat": 4,
 "nbformat_minor": 4
}

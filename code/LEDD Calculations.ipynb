{
 "cells": [
  {
   "cell_type": "markdown",
   "metadata": {
    "id": "8woFzbSOyoxy"
   },
   "source": [
    "# Introduction to this Notebook\n",
    "\n",
    "This Jupyter Notebook encompassess a series of scripts written in Python by Daniel Teixeira dos Santos, a Data Community Innovator at the Data Community of Practice ([link to my forum account](https://rcop.michaeljfox.org/u/danieltds/summary)). These scripts were written using data from PPMI, obtained through LONI. These files are linked to the MJFF Research Community's GitHub repository ([link here](https://github.com/MJFF-ResearchCommunity/Useful-PPMI-Clinical-Codes))\n",
    "\n",
    "The goal of these scripts is to provide researchers some relevant clinical data that are extracted in a meaningful way from the data that is already available in PPMI. All the necessary input datasets can be obtained [here](https://ida.loni.usc.edu/pages/access/studyData.jsp?project=PPMI) after applying for registration for access to the PPMI data. All outputs from the analyses were removed to comply with privacy and data sharing principles. Some of these scripts were developed with the help of AI tools such as ChatGPT 4o.\n",
    "\n",
    "This analysis requires two different folders to exist within the main folder. Those are \"data\" and \"priv\". The \"data\" folder is the place where you should store your datasets downloaded from LONI. The priv folder is the one the results will be exported to. These folders will be generated automatically at the beginning of this script, if they don't exist."
   ]
  },
  {
   "cell_type": "markdown",
   "metadata": {
    "id": "GT3aJYfg_HsV"
   },
   "source": [
    "# Importing and Setting Paths"
   ]
  },
  {
   "cell_type": "code",
   "execution_count": null,
   "metadata": {
    "id": "f2U67csL_KgD"
   },
   "outputs": [],
   "source": [
    "import os\n",
    "import pandas as pd\n",
    "import numpy as np\n",
    "import warnings\n",
    "import sys\n",
    "\n",
    "#add path to utils folder with shared functions\n",
    "sys.path.append(\"../utils\")\n",
    "from helpers import get_latest_file\n",
    "\n",
    "# Automatically find the \"Useful PPMI Clinical Codes\" directory\n",
    "CURRENT_DIR = os.getcwd()\n",
    "while not CURRENT_DIR.endswith(\"Useful-PPMI-Clinical-Codes\") and os.path.dirname(CURRENT_DIR) != CURRENT_DIR:\n",
    "    CURRENT_DIR = os.path.dirname(CURRENT_DIR)\n",
    "\n",
    "BASE_DIR = CURRENT_DIR\n",
    "\n",
    "# Define paths for \"data\" and \"report\" directories\n",
    "DATA_DIR = os.path.join(BASE_DIR, \"data\")\n",
    "PRIV_DIR = os.path.join(BASE_DIR, \"priv\")\n",
    "\n",
    "# Ensure both directories exist, create them if not\n",
    "for directory in [DATA_DIR, PRIV_DIR]:\n",
    "    if not os.path.exists(directory):\n",
    "        os.makedirs(directory)\n",
    "        print(f\"Created missing folder: {directory}\")\n",
    "    else:\n",
    "        print(f\"Found folder: {directory}\")\n",
    "\n",
    "# Ignore persistent warnings\n",
    "warnings.simplefilter(\"ignore\", UserWarning)\n",
    "\n",
    "# Configure Pandas for better data visualization\n",
    "pd.set_option('display.max_rows', 250)\n",
    "pd.set_option('display.max_columns', None)\n",
    "pd.set_option('display.width', None)\n",
    "pd.set_option('display.max_colwidth', None)\n",
    "pd.options.display.float_format = \"{:,.3f}\".format\n",
    "\n",
    "# List available files in both directories\n",
    "print(\"Files in data directory:\", os.listdir(DATA_DIR))\n",
    "print(\"Files in priv directory:\", os.listdir(PRIV_DIR))\n"
   ]
  },
  {
   "cell_type": "markdown",
   "metadata": {
    "id": "zFq21F1GONpM"
   },
   "source": [
    "# LEDD calculation\n",
    "\n",
    "Levodopa Equivalent Daily Dose (LEDD) is a concept that identifies the total dosage of medications used to treat PD. It is important because it gives us information on how difficult it is to treat a specific patients. This data is already present in a PPMI data cut, however, this script also tries to produce LEDD of specific subgroups of medications such as levodopa-specific LEDD, MAO-B inhibitors, dopamina agonists etc\n",
    "\n",
    "The latest LEDD calculation formulas are based on: https://movementdisorders.onlinelibrary.wiley.com/doi/full/10.1002/mds.29410\n",
    "\n",
    "**Necessary PPMI datasets:** LEDD Concomitant Medication Log and MDS-UPDRS Part III Treatment Determination and Part III: Motor Examination\n",
    "\n",
    "Limitation: interpreting COMT adjustments should probaby take into account how many times that patient takes it, but the current script doesn't do this\n",
    "\n",
    "**Last Update:** February 9, 2025"
   ]
  },
  {
   "cell_type": "markdown",
   "metadata": {
    "id": "Gi1nOSARgkjh"
   },
   "source": [
    "## Reading"
   ]
  },
  {
   "cell_type": "markdown",
   "metadata": {
    "id": "g6eME6ndhSw8"
   },
   "source": [
    "MDS-UPDRS Part III. This will be used as a proxy for a merger of EVENT_ID"
   ]
  },
  {
   "cell_type": "code",
   "execution_count": null,
   "metadata": {
    "id": "6KV8uluohYtg"
   },
   "outputs": [],
   "source": [
    "MDS3_FILE = get_latest_file(prefix=\"MDS-UPDRS_Part_III\", directory=DATA_DIR)\n",
    "MDS3 = pd.read_csv(MDS3_FILE)\n",
    "print('Length of the dataset:', len(MDS3))\n",
    "MDS3.head()"
   ]
  },
  {
   "cell_type": "markdown",
   "metadata": {
    "id": "gai3PXIVhRd2"
   },
   "source": [
    "LEDD datasheet"
   ]
  },
  {
   "cell_type": "code",
   "execution_count": null,
   "metadata": {
    "id": "4V1O53OEdO2U"
   },
   "outputs": [],
   "source": [
    "LEDD_FILE = get_latest_file(prefix=\"LEDD_Concomitant_Medication_Log\")\n",
    "LEDD = pd.read_csv(LEDD_FILE)\n",
    "print('Length of the dataset:', len(LEDD))\n",
    "LEDD.head()"
   ]
  },
  {
   "cell_type": "markdown",
   "metadata": {
    "id": "Qy0BgdthQMEw"
   },
   "source": [
    "**Explanation:** Differently from most PPMI notebooks, data in this dataset is not organized in EVENT_ID, so each we will need to apply the total LEDD for each EVENT_ID. Columns of interest are \"LEDTRT\" (name of the medication), \"STARTDT\" (Start Data), STOPDT (Stop Date) and \"LEDD\" (total already calculated LEDD). This script will, therefore, try to interpret this dataset and create columns that represent the LEDD for all medication times applied to each timepoint, so that it can facilitate analyses.\n",
    "\n",
    "However, some rows doesn't have their LEDD calculated, and some adjustments can be necessary. Also, mediciation-specific type of LEDD are not calculated (e.g. dopamine agonist, MAO-B inhibitors etc). This script will address these issues."
   ]
  },
  {
   "cell_type": "markdown",
   "metadata": {
    "id": "_kFNugTFe0I9"
   },
   "source": [
    "## Adjusting Levodopa to COMT\n",
    "\n",
    "Entacapone and Opicapone enhances the half-life of levodopa, so, usually, there needs to happen a multiplication of the LEDD when someone used Entacapone Some rows have an incomplete LEDD value just saying \"LD x 0.33\" or something like that, which indicates that the total dose of levodopa must be multiplied and added that amount (example: Carbidopa/Levodopa/Entacapone, telling the doses of everyone). Other rows have only this information on multiplication but no adjacent levodopa dose (example: Entacapone).\n",
    "\n",
    "For privacy reasons, I can't give direct numerical examples of the patients that have this type of entry in my code, but to identify those, just look for PATNOs that have \"Carbidopa/Levodopa/Entacapone\" in the column \"LEDTRT\" and you can see that, in those patients, the LEDD column isn't calculated. It is \"LD x 0.33\" instead. You can also noticed that \"LEDDSTRMG\" brings forth the dosage of levodopa present in that compound, so we can further calculate\n"
   ]
  },
  {
   "cell_type": "markdown",
   "metadata": {
    "id": "za4SZHnrgXhp"
   },
   "source": [
    "This codes creates a LEDD for instances where entacapone formulations are combined with levodopa"
   ]
  },
  {
   "cell_type": "code",
   "execution_count": 4,
   "metadata": {
    "id": "YmUDQ81pZ2ls"
   },
   "outputs": [],
   "source": [
    "# Extract the number that appears after \"LD x\" in the \"LEDD\" column\n",
    "LEDD['LD_multiplier'] = LEDD['LEDD'].str.extract(r'LD x (\\d+\\.\\d+)').astype(float)"
   ]
  },
  {
   "cell_type": "markdown",
   "metadata": {
    "id": "tSt2F2FwfwfM"
   },
   "source": [
    "Adding an already converted value of LEDD in the first type of case"
   ]
  },
  {
   "cell_type": "code",
   "execution_count": null,
   "metadata": {
    "id": "b43tf9XHTTtS"
   },
   "outputs": [],
   "source": [
    "# Function to calculate LEDD\n",
    "def calculate_ledd_ld(row):\n",
    "    # Check if \"levodopa\" is present in LEDTRT (case insensitive)\n",
    "    contains_levodopa = isinstance(row['LEDTRT'], str) and 'levodopa' in row['LEDTRT'].lower()\n",
    "\n",
    "    # Proceed with calculation if LD_multiplier and LEDDSTRMG are not NaN and LEDTRT contains \"levodopa\"\n",
    "    if pd.notna(row['LD_multiplier']) and pd.notna(row['LEDDSTRMG']) and contains_levodopa:\n",
    "        result = (row['LEDDOSE'] * row['LEDDOSFRQ'] * row['LEDDSTRMG']) + \\\n",
    "                 (row['LEDDOSE'] * row['LEDDOSFRQ'] * row['LEDDSTRMG'] * row['LD_multiplier'])\n",
    "        return result\n",
    "    return np.nan  # Return NaN for rows where conditions are not met\n",
    "\n",
    "# Running the function on all rows\n",
    "LEDD['Calculated_LEDD_LD'] = LEDD.apply(calculate_ledd_ld, axis=1)\n",
    "\n",
    "# Count number of modified rows\n",
    "num_modified = LEDD['Calculated_LEDD_LD'].notna().sum()\n",
    "\n",
    "# Update LEDD where Calculated_LEDD_LD is not NaN\n",
    "LEDD.loc[pd.notna(LEDD['Calculated_LEDD_LD']), 'LEDD'] = LEDD['Calculated_LEDD_LD']\n",
    "\n",
    "# Print number of modified rows\n",
    "print(f\"Number of rows modified: {num_modified}\")\n",
    "\n",
    "# Checking the end result and all columns involved in their calculations\n",
    "LEDD[LEDD['LEDTRT'] == 'Carbidopa/Levodopa/Entacapone'][['LEDTRT', 'LEDDOSSTR', 'LEDDSTRMG', 'LEDDOSE', 'LEDDOSFRQ', 'LD_multiplier', 'LEDD','Calculated_LEDD_LD']].head(5)"
   ]
  },
  {
   "cell_type": "code",
   "execution_count": null,
   "metadata": {
    "id": "tIwhOikGUrAF"
   },
   "outputs": [],
   "source": [
    "# Now just applying this to the original LEDD column\n",
    "# This only applies to columns where Calculated_LEDD_LD is not nan\n",
    "# Count the number of rows where LEDD will be updated\n",
    "num_modified = LEDD['Calculated_LEDD_LD'].notna().sum()\n",
    "\n",
    "# Update LEDD values where Calculated_LEDD_LD is not NaN\n",
    "LEDD.loc[pd.notna(LEDD['Calculated_LEDD_LD']), 'LEDD'] = LEDD['Calculated_LEDD_LD']\n",
    "\n",
    "# Print the number of modified rows\n",
    "print(f\"Number of rows modified: {num_modified}\")"
   ]
  },
  {
   "cell_type": "markdown",
   "metadata": {
    "id": "cZGoiuZOZ7-T"
   },
   "source": [
    "## LD x 0.2, 0.33 and 0.5\n",
    "\n",
    "Some rows have the COMT inhibitor isolated, therefore, we need to apply the calculations to the respective levodopa dosage that matches the period the patient was taking any of those medications.\n",
    "\n",
    "Most common options are Entacapone (0.33) and Opicapone (0.5). However, Istradefylline, also uses a 0.2 increased conversion factor."
   ]
  },
  {
   "cell_type": "code",
   "execution_count": null,
   "metadata": {
    "id": "vEviALFcR8rD"
   },
   "outputs": [],
   "source": [
    "# Identifying how many entries had one medication that needs LEDD correction\n",
    "LEDD['LD_multiplier'].value_counts()"
   ]
  },
  {
   "cell_type": "markdown",
   "metadata": {
    "id": "pRCkn4PELWcv"
   },
   "source": [
    "**Before analysing:** in order for the code to work, entries should have exactly the same duration as the COMT inhibitor specified start and stop dates. If not, these calclations won't work. Therefore, we have to subdivide into new rows.\n",
    "\n",
    "This script has been verified that it works correctly by selecting some specific patients and confirming that it correctly creates the necessary new rows that align with medication usage and that the original rows are deleted to not do double calculations.\n",
    "\n",
    "Select some specific PATNOs modified by this script to verify its feasibility\n",
    "\n",
    "**IMPORTANT:** as patients currently undertaking medication have a STOPDT of NaN (which invalidates the script), **the first two ines of the script are a comment and a setting for the date you downloaded the dataset, so it will fill all NaN with the specified date!**"
   ]
  },
  {
   "cell_type": "code",
   "execution_count": null,
   "metadata": {
    "id": "M3gwboItT2w6"
   },
   "outputs": [],
   "source": [
    "# Input the date you downloaded the dataset (this is important for this script to work)\n",
    "LEDD['STOPDT'] = LEDD['STOPDT'].fillna(pd.to_datetime('2025-01-01'))  # YYYY-MM-DD\n",
    "\n",
    "# Mark original rows\n",
    "LEDD['Row_Type'] = 'Original'\n",
    "\n",
    "# Convert dates for processing\n",
    "LEDD['STARTDT'] = pd.to_datetime(LEDD['STARTDT'], format='%m/%Y', errors='coerce')\n",
    "LEDD['STOPDT'] = pd.to_datetime(LEDD['STOPDT'], format='%m/%Y', errors='coerce')\n",
    "\n",
    "# Identify patients (PATNO) with a non-NaN LD_multiplier\n",
    "patients_with_ldx = LEDD.loc[LEDD['LD_multiplier'].notna(), 'PATNO'].unique()\n",
    "\n",
    "# Create lists to store new and junk rows\n",
    "new_rows = []\n",
    "junk_rows = []\n",
    "modified_patnos = set()  # Track PATNOs where at least one change occurred\n",
    "\n",
    "# Process each patient separately\n",
    "for patno in patients_with_ldx:\n",
    "    # Extract the periods where the patient has a valid LD_multiplier\n",
    "    ldx_periods = LEDD[(LEDD['PATNO'] == patno) & (LEDD['LD_multiplier'].notna())][['STARTDT', 'STOPDT', 'LD_multiplier']]\n",
    "\n",
    "    # Extract all Levodopa rows for the patient\n",
    "    levodopa_rows = LEDD[(LEDD['PATNO'] == patno) & (LEDD['LEDTRT'].str.contains('Levodopa', case=False, na=False))]\n",
    "\n",
    "    for _, ldx in ldx_periods.iterrows():\n",
    "        ld_start, ld_stop, ld_multiplier = ldx['STARTDT'], ldx['STOPDT'], ldx['LD_multiplier']\n",
    "\n",
    "        for _, levodopa in levodopa_rows.iterrows():\n",
    "            levo_start, levo_stop = levodopa['STARTDT'], levodopa['STOPDT']\n",
    "\n",
    "            # Identify non-exact but overlapping matches\n",
    "            if (levo_start < ld_stop) and (levo_stop > ld_start) and not ((levo_start == ld_start) and (levo_stop == ld_stop)):\n",
    "\n",
    "                # Move the original row to the junk dataset before replacing it\n",
    "                junk_rows.append(levodopa.copy())\n",
    "\n",
    "                # Mark PATNO as modified\n",
    "                modified_patnos.add(patno)\n",
    "\n",
    "                # First row: Exact match to LD multiplier time\n",
    "                exact_match = levodopa.copy()\n",
    "                exact_match['STARTDT'] = ld_start\n",
    "                exact_match['STOPDT'] = ld_stop\n",
    "                exact_match['Row_Type'] = 'Generated'\n",
    "                new_rows.append(exact_match)\n",
    "\n",
    "                # Second row: Period before LD multiplier medication\n",
    "                if levo_start < ld_start:\n",
    "                    before_match = levodopa.copy()\n",
    "                    before_match['STOPDT'] = ld_start\n",
    "                    before_match['Row_Type'] = 'Generated'\n",
    "                    new_rows.append(before_match)\n",
    "\n",
    "                # Third row: Period after LD multiplier medication\n",
    "                if (levo_stop is pd.NaT) or (levo_stop > ld_stop):\n",
    "                    after_match = levodopa.copy()\n",
    "                    after_match['STARTDT'] = ld_stop\n",
    "                    after_match['Row_Type'] = 'Generated'\n",
    "                    new_rows.append(after_match)\n",
    "\n",
    "# Convert the new and junk rows into DataFrames\n",
    "new_rows_df = pd.DataFrame(new_rows)\n",
    "junk_rows_df = pd.DataFrame(junk_rows)\n",
    "\n",
    "# Remove the junk rows from the main dataset\n",
    "LEDD = LEDD[~LEDD.index.isin(junk_rows_df.index)]\n",
    "\n",
    "# Append the generated rows to the original dataset\n",
    "LEDD = pd.concat([LEDD, new_rows_df], ignore_index=True)\n",
    "\n",
    "# Sort the dataset by PATNO and STARTDT to maintain alignment\n",
    "LEDD = LEDD.sort_values(by=['PATNO', 'STARTDT']).reset_index(drop=True)\n",
    "\n",
    "# Print summary statistics\n",
    "print(f\"Number of unique PATNOs modified: {len(modified_patnos)}\")\n",
    "print(f\"Total number of new rows added: {len(new_rows_df)}\")"
   ]
  },
  {
   "cell_type": "markdown",
   "metadata": {
    "id": "kQN8WJrqUPLW"
   },
   "source": [
    "Now we are going to prepare to run the script that recalculates the LEDD. But first, we need to set different possibilities for levodopa names"
   ]
  },
  {
   "cell_type": "code",
   "execution_count": null,
   "metadata": {
    "id": "dwOHJ4tuI1SI"
   },
   "outputs": [],
   "source": [
    "# Creating the list\n",
    "levodopa_names = ['Levodopa', 'Dhivy', 'Duodopa', 'Duopa', 'Inbrija',\n",
    "                  'Parcopa','Prolopa','Rytary','Sinemet','Stalevo']\n",
    "\n",
    "# Create regex pattern by joining the list elements with \"|\"\n",
    "levodopa_pattern = '|'.join(levodopa_names)\n",
    "\n",
    "# Seeing the result\n",
    "print(levodopa_pattern)"
   ]
  },
  {
   "cell_type": "markdown",
   "metadata": {
    "id": "6v3OrggYfcok"
   },
   "source": [
    "Now the real deal: multiplying according levodopa LEDD in which the timestamp is similar"
   ]
  },
  {
   "cell_type": "code",
   "execution_count": 10,
   "metadata": {
    "id": "1eWeD56gfZiR"
   },
   "outputs": [],
   "source": [
    "# Initialize 'Multiplied' column\n",
    "LEDD['Multiplied'] = 'No'\n",
    "\n",
    "# Creating the \"Original_LEDD\" values to check if any inconsistencies may happen\n",
    "LEDD['LEDD'] = LEDD['LEDD'].astype(str)\n",
    "\n",
    "# Extract numeric values only when \"LD\" is NOT in the string\n",
    "LEDD['Original_LEDD'] = np.where(\n",
    "    LEDD['LEDD'].str.contains('LD', case=False, na=False),\n",
    "    np.nan,\n",
    "    LEDD['LEDD'].str.extract(r'(\\d+\\.\\d+|\\d+)', expand=False).astype(float)\n",
    ")\n",
    "\n",
    "# Iterate over unique PATNO values to process each patient separately\n",
    "for patno in LEDD['PATNO'].unique():\n",
    "    # Filter dataset for the specific patient\n",
    "    patient_data = LEDD[LEDD['PATNO'] == patno]\n",
    "\n",
    "    # Identify rows with 'LD x' in LEDD for the specific patient\n",
    "    rows_with_ldx = patient_data[patient_data['LEDD'].str.contains('LD x', na=False)]\n",
    "\n",
    "    # Iterating over identified rows\n",
    "    for index, row in rows_with_ldx.iterrows():\n",
    "        multiplier = row['LD_multiplier']\n",
    "        start_date = row['STARTDT']\n",
    "        stop_date = row['STOPDT']\n",
    "\n",
    "        # Identify corresponding Levodopa rows within the same date range for the same patient\n",
    "        corresponding_rows = LEDD[\n",
    "            (LEDD['PATNO'] == patno) &  # Ensuring only within the same patient\n",
    "            (LEDD['LEDTRT'].str.contains(levodopa_pattern, case=False, na=False)) &\n",
    "            (LEDD['STARTDT'] == start_date) &\n",
    "            ((LEDD['STOPDT'] == stop_date) | (LEDD['STOPDT'].isna() & pd.isna(stop_date))) &\n",
    "            (LEDD['Multiplied'] == 'No')\n",
    "        ]\n",
    "\n",
    "        # Apply the multiplication logic correctly\n",
    "        for corr_index, corr_row in corresponding_rows.iterrows():\n",
    "            original_ledd = LEDD.loc[corr_index, 'Original_LEDD']\n",
    "            if pd.notna(multiplier):  # Ensure multiplier is not NaN\n",
    "                new_ledd = original_ledd + (original_ledd * multiplier)\n",
    "                LEDD.loc[corr_index, 'LEDD'] = new_ledd\n",
    "                LEDD.loc[corr_index, 'Multiplied'] = 'Yes'"
   ]
  },
  {
   "cell_type": "markdown",
   "metadata": {
    "id": "ta2Pzdi18lQC"
   },
   "source": [
    "## Specific medication LEDD and joining to the timepoint organization\n",
    "\n",
    "This part of the script accomplishes two different goals: first it merges the data present in the LEDD script in a way that is is aligned with the EVENT_ID in the dataset (BL, V02, V04 etc). For this, we use the MDS-UPDRS 3 questionnaire as a proxy to gather these timeframes, as it seems to be one of the most complete questionnaires. Second, it calculates medication_specific LEDD based on synthax understanding. It calculates for levodopa, MAO-B, amantadine, anticholinergics etc"
   ]
  },
  {
   "cell_type": "markdown",
   "metadata": {
    "id": "S71NJ8b_awrR"
   },
   "source": [
    "This script is just to showcase how you can identify the different ways levodopa are written. I did a manual check for most medication types that will be presented below to ensure most of them could be included in LEDD-specific medication calculations"
   ]
  },
  {
   "cell_type": "code",
   "execution_count": null,
   "metadata": {
    "id": "pUuBvRtcf9z0"
   },
   "outputs": [],
   "source": [
    "# Selecting rows where the \"LEDTRT\" column contains 'Levodopa'\n",
    "levodopa_rows = LEDD[LEDD['LEDTRT'].str.contains('Levodopa', case=False, na=False)]\n",
    "\n",
    "# Printing or further processing the selected rows\n",
    "levodopa_rows['LEDTRT'].value_counts().index.tolist()[0:5]"
   ]
  },
  {
   "cell_type": "markdown",
   "metadata": {
    "id": "gpt78OzLgH2Z"
   },
   "source": [
    "## Uniting LEDD to timepoints"
   ]
  },
  {
   "cell_type": "code",
   "execution_count": 12,
   "metadata": {
    "id": "qozjcDQme4bv"
   },
   "outputs": [],
   "source": [
    "# Defining names for specific categories\n",
    "# Levodopa\n",
    "levodopa_names = ['Levodopa', 'Dhivy', 'Duodopa', 'Duopa', 'Inbrija',\n",
    "                  'Parcopa','Prolopa','Rytary','Sinemet','Stalevo']\n",
    "\n",
    "# Create a regex pattern that matches any of the terms\n",
    "levodopopa_pattern = '|'.join(levodopa_names)\n",
    "\n",
    "# Dopamine agonists\n",
    "dopamine_agonist_names = ['Pramipexol', 'Mirapex', 'Mirapexin', 'Sifrol',\n",
    "                          'Ropirinol', 'Requip', 'Rotigotin', 'Neupro',\n",
    "                          'Apomorphin', 'Apokyn']\n",
    "\n",
    "# Create a regex pattern that matches any of the terms\n",
    "dopamine_agonist_pattern = '|'.join(dopamine_agonist_names)\n",
    "\n",
    "# MAO-B\n",
    "maob_names = ['Selegilin', 'Eldepryl', 'Zelapar', 'Rasagilin', 'Azilect'\n",
    "                          'Safinamid', 'Xadago']\n",
    "\n",
    "# Create a regex pattern that matches any of the terms\n",
    "maob_pattern = '|'.join(maob_names)\n",
    "\n",
    "# COMT\n",
    "comt_names = ['Entacapon', 'Comtan', 'Tolcapon', 'Tasmar',\n",
    "              'Opicapon', 'Ongentys']\n",
    "\n",
    "# Create a regex pattern that matches any of the terms\n",
    "comt_pattern = '|'.join(comt_names)\n",
    "\n",
    "# Muscarinic antagonist\n",
    "anticholingergic_names = ['Trihexyphenidyl', 'Artanis', 'Biperiden', 'Akineton']\n",
    "\n",
    "# Create a regex pattern that matches any of the terms\n",
    "anticholingergic_pattern = '|'.join(anticholingergic_names)\n",
    "\n",
    "# Amantadine (some typos present in the dataset, so giving all options)\n",
    "amantadine_names = ['AMANDATINE', 'AMANDTADINE', 'AMANTADIN', 'AMANTADIN 100',\n",
    "                    'AMANTADIN 150', 'AMANTADINA', 'AMANTADINE', 'AMANTADINE (100 MG)',\n",
    "                    'AMANTADINE 100 MG', 'AMANTADINE 100MG', 'AMANTADINE HCL',\n",
    "                    'AMANTADINE09', 'GOCOVERI', 'GOCOVRI', 'GOCOVRI 137 MG',\n",
    "                    'GOCOVRI ER', 'Gocovri (Amantadine CR )', 'Gocovri (Amantadine CR)',\n",
    "                     'OSMOLEX ER', 'Osmolex (Amantadine ER)']\n",
    "\n",
    "# Create a regex pattern that matches any of the terms\n",
    "amantadine_pattern = '|'.join(amantadine_names)\n",
    "\n",
    "# Creating lists of names for drugs\n",
    "levodopa_values = LEDD[LEDD['LEDTRT'].str.contains(levodopopa_pattern, case=False, regex=True)]['LEDTRT'].drop_duplicates().tolist()\n",
    "dopamine_agonist_values = LEDD[LEDD['LEDTRT'].str.contains(dopamine_agonist_pattern, case=False, regex=True)]['LEDTRT'].drop_duplicates().tolist()\n",
    "maob_values = LEDD[LEDD['LEDTRT'].str.contains(maob_pattern, case=False, regex=True)]['LEDTRT'].drop_duplicates().tolist()\n",
    "comt_values = LEDD[LEDD['LEDTRT'].str.contains(comt_pattern, case=False, regex=True)]['LEDTRT'].drop_duplicates().tolist()\n",
    "anticholingergic_values = LEDD[LEDD['LEDTRT'].str.contains(anticholingergic_pattern, case=False, regex=True)]['LEDTRT'].drop_duplicates().tolist()\n",
    "amantadine_values = LEDD[LEDD['LEDTRT'].str.contains(amantadine_pattern, case=False, regex=True)]['LEDTRT'].drop_duplicates().tolist()"
   ]
  },
  {
   "cell_type": "code",
   "execution_count": null,
   "metadata": {
    "id": "CXFJjKUlpj0M"
   },
   "outputs": [],
   "source": [
    "# Convert the date columns to datetime format\n",
    "MDS3['INFODT'] = pd.to_datetime(MDS3['INFODT'], format='%m/%Y')\n",
    "LEDD['STARTDT'] = pd.to_datetime(LEDD['STARTDT'], format='%m/%Y')\n",
    "LEDD['STOPDT'] = pd.to_datetime(LEDD['STOPDT'], format='%m/%Y', errors='coerce')  # Handle NaN\n",
    "\n",
    "# Convert 'LEDD' column to numeric\n",
    "LEDD['LEDD'] = pd.to_numeric(LEDD['LEDD'], errors='coerce')\n",
    "\n",
    "# Function to calculate LEDD sums for specific medication categories\n",
    "def calculate_ledd_sums(relevant_meds, values_list):\n",
    "    return relevant_meds[relevant_meds['LEDTRT'].str.lower().isin([val.lower() for val in values_list])]['LEDD'].sum()\n",
    "\n",
    "# Initialize lists to collect results\n",
    "led_values = []\n",
    "amantadine_values_list = []\n",
    "levodopa_values_list = []\n",
    "dopamine_agonist_values_list = []\n",
    "maob_values_list = []\n",
    "comt_values_list = []\n",
    "anticholingergic_values_list = []\n",
    "\n",
    "# Iterate through unique patients in MDS3\n",
    "for patno in MDS3['PATNO'].unique():\n",
    "    patient_mds3 = MDS3[MDS3['PATNO'] == patno]\n",
    "    patient_ledd = LEDD[LEDD['PATNO'] == patno]\n",
    "\n",
    "    for index, row in patient_mds3.iterrows():\n",
    "        infodt = row['INFODT']\n",
    "        relevant_meds = patient_ledd[(patient_ledd['STARTDT'] <= infodt) &\n",
    "                                     ((patient_ledd['STOPDT'] >= infodt) | pd.isna(patient_ledd['STOPDT']))]\n",
    "\n",
    "        # Sum the total LEDD values\n",
    "        led_values.append(relevant_meds['LEDD'].sum())\n",
    "\n",
    "        # Sum the LEDD values for the specified 'LEDTRT' names for each category\n",
    "        amantadine_values_list.append(calculate_ledd_sums(relevant_meds, amantadine_values))\n",
    "        levodopa_values_list.append(calculate_ledd_sums(relevant_meds, levodopa_values))\n",
    "        dopamine_agonist_values_list.append(calculate_ledd_sums(relevant_meds, dopamine_agonist_values))\n",
    "        maob_values_list.append(calculate_ledd_sums(relevant_meds, maob_values))\n",
    "        comt_values_list.append(calculate_ledd_sums(relevant_meds, comt_values))\n",
    "        anticholingergic_values_list.append(calculate_ledd_sums(relevant_meds, anticholingergic_values))\n",
    "\n",
    "# Assign the collected results back to the DataFrame\n",
    "MDS3['LEDD'] = led_values\n",
    "MDS3['AMANTADINE_LEDD'] = amantadine_values_list\n",
    "MDS3['LEVODOPA_LEDD'] = levodopa_values_list\n",
    "MDS3['DOPAMINE_AGONIST_LEDD'] = dopamine_agonist_values_list\n",
    "MDS3['MAOB_LEDD'] = maob_values_list\n",
    "MDS3['COMT_LEDD'] = comt_values_list\n",
    "MDS3['ANTICHOLINERGIC_LEDD'] = anticholingergic_values_list\n",
    "\n",
    "MDS3[['PATNO','INFODT','LEDD', 'AMANTADINE_LEDD', 'DOPAMINE_AGONIST_LEDD', 'MAOB_LEDD', 'COMT_LEDD', 'ANTICHOLINERGIC_LEDD', 'LEVODOPA_LEDD']].head()"
   ]
  },
  {
   "cell_type": "markdown",
   "metadata": {
    "id": "S71NJ8b_awrR"
   },
   "source": [
    "Now the main part of the script. This can take 2 - 3 minutes to fully execute"
   ]
  },
  {
   "cell_type": "code",
   "execution_count": null,
   "metadata": {
    "id": "I8s_3yxOem8N"
   },
   "outputs": [],
   "source": [
    "# Convert the date columns to datetime format\n",
    "MDS3['INFODT'] = pd.to_datetime(MDS3['INFODT'], format='%m/%Y')\n",
    "LEDD['STARTDT'] = pd.to_datetime(LEDD['STARTDT'], format='%m/%Y')\n",
    "LEDD['STOPDT'] = pd.to_datetime(LEDD['STOPDT'], format='%m/%Y', errors='coerce')  # Handle NaN\n",
    "\n",
    "# Convert 'LEDD' column to numeric\n",
    "LEDD['LEDD'] = pd.to_numeric(LEDD['LEDD'], errors='coerce')\n",
    "\n",
    "# Function to calculate LEDD sums for specific medication categories\n",
    "def calculate_ledd_sums(relevant_meds, values_list):\n",
    "    return relevant_meds[relevant_meds['LEDTRT'].str.lower().isin([val.lower() for val in values_list])]['LEDD'].sum()\n",
    "\n",
    "# Function to check COMT inhibitor presence\n",
    "def check_comt_inhibitor(relevant_meds, comt_names):\n",
    "    return \"Yes\" if relevant_meds['LEDTRT'].str.lower().isin([val.lower() for val in comt_names]).any() else \"No\"\n",
    "\n",
    "# Initialize lists to collect results\n",
    "led_values = []\n",
    "amantadine_values_list = []\n",
    "levodopa_values_list = []\n",
    "dopamine_agonist_values_list = []\n",
    "maob_values_list = []\n",
    "comt_presence_list = []  # Store Yes/No instead of sum\n",
    "anticholingergic_values_list = []\n",
    "\n",
    "# Iterate through unique patients in MDS3\n",
    "for patno in MDS3['PATNO'].unique():\n",
    "    patient_mds3 = MDS3[MDS3['PATNO'] == patno]\n",
    "    patient_ledd = LEDD[LEDD['PATNO'] == patno]\n",
    "\n",
    "    for index, row in patient_mds3.iterrows():\n",
    "        infodt = row['INFODT']\n",
    "        relevant_meds = patient_ledd[(patient_ledd['STARTDT'] <= infodt) &\n",
    "                                     ((patient_ledd['STOPDT'] >= infodt) | pd.isna(patient_ledd['STOPDT']))]\n",
    "\n",
    "        # Sum the total LEDD values\n",
    "        led_values.append(relevant_meds['LEDD'].sum())\n",
    "\n",
    "        # Sum the LEDD values for the specified 'LEDTRT' names for each category\n",
    "        amantadine_values_list.append(calculate_ledd_sums(relevant_meds, amantadine_values))\n",
    "        levodopa_values_list.append(calculate_ledd_sums(relevant_meds, levodopa_values))\n",
    "        dopamine_agonist_values_list.append(calculate_ledd_sums(relevant_meds, dopamine_agonist_values))\n",
    "        maob_values_list.append(calculate_ledd_sums(relevant_meds, maob_values))\n",
    "        anticholingergic_values_list.append(calculate_ledd_sums(relevant_meds, anticholingergic_values))\n",
    "\n",
    "        # Check for COMT inhibitor presence\n",
    "        comt_presence_list.append(check_comt_inhibitor(relevant_meds, comt_values))\n",
    "\n",
    "# Assign the collected results back to the DataFrame\n",
    "MDS3['LEDD'] = led_values\n",
    "MDS3['AMANTADINE_LEDD'] = amantadine_values_list\n",
    "MDS3['LEVODOPA_LEDD'] = levodopa_values_list\n",
    "MDS3['DOPAMINE_AGONIST_LEDD'] = dopamine_agonist_values_list\n",
    "MDS3['MAOB_LEDD'] = maob_values_list\n",
    "MDS3['COMT_INHIBITOR'] = comt_presence_list  # Changed from sum to Yes/No\n",
    "MDS3['ANTICHOLINERGIC_LEDD'] = anticholingergic_values_list\n",
    "\n",
    "# Display the results\n",
    "MDS3[['PATNO','INFODT','LEDD', 'AMANTADINE_LEDD', 'DOPAMINE_AGONIST_LEDD', 'MAOB_LEDD', 'COMT_INHIBITOR', 'ANTICHOLINERGIC_LEDD', 'LEVODOPA_LEDD']].head()"
   ]
  },
  {
   "cell_type": "markdown",
   "metadata": {
    "id": "ynAuX8c2cqjb"
   },
   "source": [
    "## Exporting"
   ]
  },
  {
   "cell_type": "code",
   "execution_count": null,
   "metadata": {
    "id": "zIrsgt7rjQ4p"
   },
   "outputs": [],
   "source": [
    "# Subsetting the dataset to important variables\n",
    "LEDD_dataset = MDS3[['PATNO','INFODT','LEDD', 'AMANTADINE_LEDD', 'DOPAMINE_AGONIST_LEDD', 'MAOB_LEDD', 'COMT_INHIBITOR', 'ANTICHOLINERGIC_LEDD', 'LEVODOPA_LEDD']]\n",
    "LEDD_dataset.head()"
   ]
  },
  {
   "cell_type": "code",
   "execution_count": 16,
   "metadata": {
    "id": "gO5fm3AWcspt"
   },
   "outputs": [],
   "source": [
    "# Exporting\n",
    "LEDD_dataset.to_csv(os.path.join(PRIV_DIR, \"LEDD_by_timepoints_and_med_types.csv\"), index=False)"
   ]
  }
 ],
 "metadata": {
  "colab": {
   "authorship_tag": "ABX9TyMI5LItW6Q6uGsdLm7BJvNB",
   "provenance": [],
   "toc_visible": true
  },
  "kernelspec": {
   "display_name": "Python 3 (ipykernel)",
   "language": "python",
   "name": "python3"
  },
  "language_info": {
   "codemirror_mode": {
    "name": "ipython",
    "version": 3
   },
   "file_extension": ".py",
   "mimetype": "text/x-python",
   "name": "python",
   "nbconvert_exporter": "python",
   "pygments_lexer": "ipython3",
   "version": "3.9.6"
  }
 },
 "nbformat": 4,
 "nbformat_minor": 4
}

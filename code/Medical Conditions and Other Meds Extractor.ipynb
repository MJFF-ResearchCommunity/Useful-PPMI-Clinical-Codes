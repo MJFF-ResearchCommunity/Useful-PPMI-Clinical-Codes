{
 "cells": [
  {
   "cell_type": "markdown",
   "metadata": {
    "id": "8woFzbSOyoxy"
   },
   "source": [
    "# Introduction to this Notebook\n",
    "\n",
    "This Jupyter Notebook encompassess a series of scripts written in Python by Daniel Teixeira dos Santos, a Data Community Innovator at the Data Community of Practice ([link to my forum account](https://rcop.michaeljfox.org/u/danieltds/summary)). These scripts were written using Google Colab by accessing local files present in my Google Drive that I downloaded from LONI. These files are linked to the MJFF Research Community's GitHub repository ([link here](https://github.com/MJFF-ResearchCommunity/Useful-PPMI-Clinical-Codes))\n",
    "\n",
    "The goal of these scripts is to provide researchers some relevant clinical data that are extracted in a meaningful way form the data that is already available in PPMI. All the necessary input datasets can be obtained [here](https://ida.loni.usc.edu/pages/access/studyData.jsp?project=PPMI) after applying for registration for access to the PPMI data. All outputs from the analyses were removed to comply with privacy and data sharing principles. Some of these scripts were developed with the help of AI tools such as ChatGPT 4o.\n",
    "\n",
    "This analysis requires two different folders to exist within the main folder. Those are \"data\" and \"priv\". The \"data\" folder is the place where you should store your datasets downloaded from LONI. The priv folder is the one the results will be exported to. These folders will be generated automatically at the beginning of this script, if they don't exist."
   ]
  },
  {
   "cell_type": "markdown",
   "metadata": {
    "id": "GT3aJYfg_HsV"
   },
   "source": [
    "# Importing and Setting Paths"
   ]
  },
  {
   "cell_type": "code",
   "execution_count": null,
   "metadata": {
    "id": "f2U67csL_KgD"
   },
   "outputs": [],
   "source": [
    "import os\n",
    "import pandas as pd\n",
    "import numpy as np\n",
    "import math\n",
    "import glob\n",
    "import warnings\n",
    "\n",
    "# Automatically find the \"Useful PPMI Clinical Codes\" directory\n",
    "CURRENT_DIR = os.getcwd()\n",
    "while not CURRENT_DIR.endswith(\"Useful PPMI Clinical Codes\") and os.path.dirname(CURRENT_DIR) != CURRENT_DIR:\n",
    "    CURRENT_DIR = os.path.dirname(CURRENT_DIR)\n",
    "\n",
    "BASE_DIR = CURRENT_DIR\n",
    "\n",
    "# Define paths for \"data\" and \"report\" directories\n",
    "DATA_DIR = os.path.join(BASE_DIR, \"data\")\n",
    "PRIV_DIR = os.path.join(BASE_DIR, \"priv\")\n",
    "\n",
    "# Ensure both directories exist, create them if not\n",
    "for directory in [DATA_DIR, PRIV_DIR]:\n",
    "    if not os.path.exists(directory):\n",
    "        os.makedirs(directory)\n",
    "        print(f\"Created missing folder: {directory}\")\n",
    "    else:\n",
    "        print(f\"Found folder: {directory}\")\n",
    "\n",
    "# Ignore persistent warnings\n",
    "warnings.simplefilter(\"ignore\", UserWarning)\n",
    "\n",
    "# Configure Pandas for better data visualization\n",
    "pd.set_option('display.max_rows', 250)\n",
    "pd.set_option('display.max_columns', None)\n",
    "pd.set_option('display.width', None)\n",
    "pd.set_option('display.max_colwidth', None)\n",
    "pd.options.display.float_format = \"{:,.3f}\".format\n",
    "\n",
    "# List available files in both directories\n",
    "print(\"Files in data directory:\", os.listdir(DATA_DIR))\n",
    "print(\"Files in priv directory:\", os.listdir(PRIV_DIR))\n"
   ]
  },
  {
   "cell_type": "markdown",
   "metadata": {
    "id": "dOmudaSJNaos"
   },
   "source": [
    "# Medical Conditions\n",
    "\n",
    "Several medical conditions are associated with a higher PD risk and/or progression (examples: https://pubmed.ncbi.nlm.nih.gov/36865411/ and https://pubmed.ncbi.nlm.nih.gov/33682937/). So having a way to understand in more detail each patient's diagnosis may be useful for correlation analyses.\n",
    "\n",
    "**Necessary PPMI datasets:** Medical Conditions Log and MDS-UPDRS Part III Treatment Determination and Part III: Motor Examination\n",
    "\n",
    "**Last Update:** February 9, 2025"
   ]
  },
  {
   "cell_type": "markdown",
   "metadata": {
    "id": "vkX6ekYqYeFJ"
   },
   "source": [
    "## Reading"
   ]
  },
  {
   "cell_type": "markdown",
   "metadata": {
    "id": "wWI6YpAoqIee"
   },
   "source": [
    "Reading MDS data to use as a surrogate for the timepoints"
   ]
  },
  {
   "cell_type": "code",
   "execution_count": null,
   "metadata": {
    "id": "xidW9NV8qAWn"
   },
   "outputs": [],
   "source": [
    "# Using MDS3 as a timepoint proxy\n",
    "MDS3 = pd.read_csv(os.path.join(DATA_DIR, \"MDS-UPDRS_Part_III_09Feb2025.csv\"))\n",
    "print('Lenght of the dataset:', len(MDS3))\n",
    "MDS3.head()"
   ]
  },
  {
   "cell_type": "code",
   "execution_count": null,
   "metadata": {
    "id": "Kcka2kayNcP0"
   },
   "outputs": [],
   "source": [
    "# Reading the medical conditions dataset\n",
    "conditions = pd.read_csv(os.path.join(DATA_DIR, \"Medical_Conditions_Log_09Feb2025.csv\"))\n",
    "print('Lenght of the dataset:', len(conditions))\n",
    "conditions.head()"
   ]
  },
  {
   "cell_type": "markdown",
   "metadata": {
    "id": "RgDY5lQiRFMS"
   },
   "source": [
    "This and other datasets don't have information in the EVENT_ID format, however, they provide the \"INFODT\" (Assessment Date), \"RESYR\" (Year of Resolution), \"MHDIAGYR\" (Year of Diagnosis), \"MHDIAGDT\" (Date ate diagnosis) and \"RESOLVD\" (Resolved).\n",
    "\n",
    "The most logical way to extract this information, I think, is to identify if it was present in the same time assessments of the EVENT_ID, then label if the patient had or not this condition by that time (BL, V02, V04 etc).\n",
    "\n",
    "So, for a patient to have a condition, it must: (1) have this diagnosis in a period earlier or equal to the EVENT_ID - \"MHTERM\" + \"MHDIAGDT\" and (2) not having resolved this by the time of this \"RESOLVD\""
   ]
  },
  {
   "cell_type": "markdown",
   "metadata": {
    "id": "g3_MBWTGS58n"
   },
   "source": [
    "Now here follows a code that showcases the different ways the word \"diabetes\" are written in the dataset"
   ]
  },
  {
   "cell_type": "code",
   "execution_count": null,
   "metadata": {
    "id": "0iezJFQ9TuY3"
   },
   "outputs": [],
   "source": [
    "# Getting columns with the diagnosis we want\n",
    "elements = ['diabetes']\n",
    "\n",
    "# Converting 'elements' to lowercase to ensure case-insensitive matching\n",
    "elements_lower = [element.lower() for element in elements]\n",
    "\n",
    "# Selecting the patients that have one of the criterias\n",
    "tempdf = conditions[conditions['MHTERM'].astype(str).str.lower().apply(lambda x: any(element in x for element in elements))]\n",
    "print('Lenght of patients with the desired condition:', len(tempdf))\n",
    "print('Different values of the obtained dataset:', list(set(tempdf['MHTERM']))) # Printing without duplicates\n",
    "tempdf.head()"
   ]
  },
  {
   "cell_type": "markdown",
   "metadata": {
    "id": "KHff2egvbjf9"
   },
   "source": [
    "## Definitions\n",
    "\n",
    "For this code, we will be using the example for the Charlson comorbidity index (https://www.mdcalc.com/calc/3917/charlson-comorbidity-index-cci) and will extract the conditions present in that score. Osteoporosis was added also added as a test.\n",
    "\n",
    "Of course, you could modify this to any condition of your liking, just having to think about all the different names this could be written in the dataset in order to extract it."
   ]
  },
  {
   "cell_type": "code",
   "execution_count": null,
   "metadata": {
    "id": "Iz8-rS-Y5fQJ"
   },
   "outputs": [],
   "source": [
    "# List of Charlson Comorbidity Index conditions\n",
    "charlson_conditions = {\n",
    "    'Myocardial Infarction': ['myocardial infarction', 'heart attack', 'MI'],\n",
    "    'Congestive Heart Failure': ['heart failure', 'CHF', 'congestive heart failure'],\n",
    "    'Peripheral Vascular Disease': ['peripheral vascular disease', 'PVD', 'peripheral artery disease'],\n",
    "    'Cerebrovascular Disease': ['cerebrovascular disease', 'stroke', 'CVA', 'cerebrovascular accident'],\n",
    "    'Dementia': ['dementia', 'Alzheimer\\'s disease', 'alzheimer'],\n",
    "    'Chronic Pulmonary Disease': ['chronic pulmonary disease', 'COPD', 'chronic obstructive pulmonary disease', 'emphysema', 'chronic bronchitis'],\n",
    "    'Connective Tissue Disease': ['connective tissue disease', 'lupus', 'rheumatoid arthritis', 'systemic lupus erythematosus', 'SLE'],\n",
    "    'Peptic Ulcer Disease': ['peptic ulcer disease', 'PUD', 'stomach ulcer', 'gastric ulcer'],\n",
    "    'Mild Liver Disease': ['mild liver disease', 'chronic hepatitis', 'hepatitis B', 'hepatitis C'],\n",
    "    'Diabetes without Complication': ['diabetes', 'diabetes mellitus'],\n",
    "    'Diabetes with Complication': ['diabetic retinopathy', 'diabetic nephropathy', 'diabetes with complications', 'diabetic neuropathy'],\n",
    "    'Hemiplegia or Paraplegia': ['hemiplegia', 'paraplegia', 'paralysis'],\n",
    "    'Renal Disease': ['renal disease', 'chronic kidney disease', 'CKD', 'kidney failure', 'chronic renal failure', 'reduced kidney function'],\n",
    "    'Cancer (non-metastatic)': ['cancer', 'tumor', 'carcinoma', 'malignancy'],\n",
    "    'Leukemia': ['leukemia', 'blood cancer'],\n",
    "    'Lymphoma': ['lymphoma', 'lymphatic cancer', 'Hodgkin\\'s lymphoma', 'non-Hodgkin\\'s lymphoma'],\n",
    "    'Moderate or Severe Liver Disease': ['cirrhosis', 'severe liver disease', 'liver cirrhosis', 'end-stage liver disease'],\n",
    "    'Metastatic Solid Tumor': ['metastatic cancer', 'metastasis',  'metastatic', 'stage IV', 'advanced cancer'],\n",
    "    'AIDS': ['AIDS', 'HIV', 'acquired immunodeficiency syndrome', 'human immunodeficiency virus'],\n",
    "    'Osteoporosis':['osteoporosis']}"
   ]
  },
  {
   "cell_type": "markdown",
   "metadata": {
    "id": "7SYvAcq95mwa"
   },
   "source": [
    "## Running"
   ]
  },
  {
   "cell_type": "markdown",
   "metadata": {
    "id": "6YYutOnI6JQn"
   },
   "source": [
    "Working code, includes per timepoints"
   ]
  },
  {
   "cell_type": "code",
   "execution_count": null,
   "metadata": {
    "id": "oo4hqkWRzOoM"
   },
   "outputs": [],
   "source": [
    "# Convert 'MHTERM' to lowercase to ensure case-insensitive matching\n",
    "conditions['MHTERM_lower'] = conditions['MHTERM'].str.lower()\n",
    "\n",
    "# Merge conditions and events on 'PATNO'\n",
    "merged_df = pd.merge(MDS3, conditions, on='PATNO', suffixes=('_event', '_condition'))\n",
    "\n",
    "# Initialize an empty list to collect results\n",
    "results = []\n",
    "\n",
    "# Function to check if any condition term is in the disease name\n",
    "def check_conditions(disease_name):\n",
    "    if not isinstance(disease_name, str):\n",
    "        return []\n",
    "    conditions_found = []\n",
    "    for condition, terms in charlson_conditions.items():\n",
    "        if any(term in disease_name for term in terms):\n",
    "            conditions_found.append(condition)\n",
    "    return conditions_found\n",
    "\n",
    "# Determine the active status of each condition for each timepoint\n",
    "for index, row in merged_df.iterrows():\n",
    "    diag_date = pd.to_datetime(row['MHDIAGDT'], format='%m/%Y')\n",
    "    info_date = pd.to_datetime(row['INFODT_event'], format='%m/%Y')\n",
    "    resolved_date = pd.to_datetime(row['RESDT'], format='%m/%Y') if pd.notna(row['RESDT']) else None\n",
    "\n",
    "    # Initialize conditions for this patient and event\n",
    "    patient_condition = {'PATNO': row['PATNO'], 'EVENT_ID': row['EVENT_ID_event']}\n",
    "    for condition in charlson_conditions.keys():\n",
    "        patient_condition[condition] = 0\n",
    "\n",
    "    # Calculate years since diagnosis for \"BL\" and \"SC\" timepoints, only if the diagnosis was discovered on or before the timepoint\n",
    "    if row['EVENT_ID_event'] in ['BL', 'SC']:\n",
    "        if diag_date <= info_date:\n",
    "            years_since_diag = (info_date.year - diag_date.year) + (info_date.month - diag_date.month) / 12.0\n",
    "            conditions_found = check_conditions(row['MHTERM_lower'])\n",
    "            for condition in conditions_found:\n",
    "                patient_condition[condition] = years_since_diag\n",
    "    else:\n",
    "        # Check if the diagnosis was active at the timepoint\n",
    "        if (diag_date <= info_date) and (row['RESOLVD'] == 0 or (resolved_date and resolved_date >= info_date)):\n",
    "            conditions_found = check_conditions(row['MHTERM_lower'])\n",
    "            for condition in conditions_found:\n",
    "                patient_condition[condition] = 1\n",
    "\n",
    "    # Collect the result for this patient and event\n",
    "    results.append(patient_condition)\n",
    "\n",
    "# Create a DataFrame from the collected results\n",
    "patients_conditions = pd.DataFrame(results)\n",
    "\n",
    "# This analysis above yields a code with repetitive values, and even some Falses among Trues for the same timepoint (the True are correct), so let's subset\n",
    "# Define columns to check for \"True\" values\n",
    "columns_to_check = list(charlson_conditions.keys())\n",
    "\n",
    "# Create a column that will be True if any of the columns_to_check are True\n",
    "patients_conditions['any_true'] = patients_conditions[columns_to_check].any(axis=1)\n",
    "\n",
    "# Sort by PATNO, EVENT_ID and the 'any_true' column\n",
    "df_sorted = patients_conditions.sort_values(by=['PATNO', 'EVENT_ID', 'any_true'], ascending=[True, True, False])\n",
    "\n",
    "# Drop duplicates, keeping the first (which has 'True' if there was any)\n",
    "df_deduplicated = df_sorted.drop_duplicates(subset=['PATNO', 'EVENT_ID'], keep='first')\n",
    "\n",
    "# Drop the helper column\n",
    "patients_conditions_correct = df_deduplicated.drop(columns=['any_true'])\n",
    "\n",
    "# Display the first few rows of the resulting DataFrame\n",
    "patients_conditions_correct.head(5)"
   ]
  },
  {
   "cell_type": "code",
   "execution_count": null,
   "metadata": {
    "id": "-ubfCRVk45Yo"
   },
   "outputs": [],
   "source": [
    "patients_conditions_correct.describe()"
   ]
  },
  {
   "cell_type": "code",
   "execution_count": null,
   "metadata": {
    "id": "VWgBwQr9ng9R"
   },
   "outputs": [],
   "source": [
    "# Identifying which patients ever had a diagnosis of osteoporosis\n",
    "print('Number of patients with osteoporosis:', len(patients_conditions_correct[patients_conditions_correct['Osteoporosis'] > 1]))\n",
    "patients_conditions_correct[patients_conditions_correct['Osteoporosis'] > 1].head()"
   ]
  },
  {
   "cell_type": "markdown",
   "metadata": {
    "id": "aP8wte5F5Yei"
   },
   "source": [
    "## Testing"
   ]
  },
  {
   "cell_type": "markdown",
   "metadata": {
    "id": "M0pf77b86OiF"
   },
   "source": [
    "Doing some testing to confirm the accuracy of these measures"
   ]
  },
  {
   "cell_type": "code",
   "execution_count": null,
   "metadata": {
    "id": "U0hqvR80Jt0p"
   },
   "outputs": [],
   "source": [
    "# Reshape the DataFrame to long format\n",
    "long_df = pd.melt(patients_conditions_correct, id_vars=['PATNO', 'EVENT_ID'], var_name='Cancer (non-metastatic)', value_name='Status')\n",
    "\n",
    "# Group by PATNO and Condition, then check if there are both True and False values\n",
    "grouped = long_df.groupby(['PATNO', 'Cancer (non-metastatic)'])['Status'].agg(['any', 'all']).reset_index()\n",
    "\n",
    "# Find PATNOs with both True and False statuses for the same condition\n",
    "testing = grouped[(grouped['any'] == True) & (grouped['all'] == False)]\n",
    "testing.head(10)"
   ]
  },
  {
   "cell_type": "markdown",
   "metadata": {
    "id": "qZF6EsQ4q8yR"
   },
   "source": [
    "For privacy reasons, I can't share individual patient's data, even as a comment section. I encourage you to look out for some PATNOs for the description of their conditions (see code above) and confirm in the original dataset if the code was able to extract it!"
   ]
  },
  {
   "cell_type": "markdown",
   "metadata": {
    "id": "xqvFVlf9Wrmo"
   },
   "source": [
    "Exporting"
   ]
  },
  {
   "cell_type": "code",
   "execution_count": null,
   "metadata": {
    "id": "5Ekq3Wu7waDW"
   },
   "outputs": [],
   "source": [
    "# Exporting\n",
    "patients_conditions_correct.to_csv(os.path.join(PRIV_DIR, \"Medical_Conditions_Charlson.csv\"), index=False)"
   ]
  },
  {
   "cell_type": "markdown",
   "metadata": {
    "id": "okHdtZ9cOMCY"
   },
   "source": [
    "# Medications\n",
    "\n",
    "Several medications are associated with a lower/higher PD risk and/or progression. So having a way to understand in more detail each patient's non-PD medication may be useful for correlation analyses.\n",
    "\n",
    "**Necessary PPMI datasets:** Concomitant Medication Log and MDS-UPDRS Part III Treatment Determination and Part III: Motor Examination\n",
    "\n",
    "**Last Update:** February 9, 2025\n",
    "\n",
    "**Useful links to find all the different names a medication can have:**\n",
    "\n",
    "Link 1: https://go.drugbank.com/\n",
    "\n",
    "Link 2: https://www.rxlist.com/search/rxl/exenat\n"
   ]
  },
  {
   "cell_type": "markdown",
   "metadata": {
    "id": "YzZgbQWHYgYK"
   },
   "source": [
    "### Reading"
   ]
  },
  {
   "cell_type": "markdown",
   "metadata": {
    "id": "WE8wgg-BsOjn"
   },
   "source": [
    "Reading MDS data to use as a surrogate for the timepoints"
   ]
  },
  {
   "cell_type": "code",
   "execution_count": null,
   "metadata": {
    "id": "jEApGiAssIJD"
   },
   "outputs": [],
   "source": [
    "# Using MDS3 as a timepoint proxy\n",
    "MDS3 = pd.read_csv(os.path.join(DATA_DIR, \"MDS-UPDRS_Part_III_09Feb2025.csv\"))\n",
    "print('Lenght of the dataset:', len(MDS3))\n",
    "MDS3.head()"
   ]
  },
  {
   "cell_type": "code",
   "execution_count": null,
   "metadata": {
    "id": "Kzw_AmIVYhax"
   },
   "outputs": [],
   "source": [
    "# Reading the medication dataset\n",
    "medications = pd.read_csv(os.path.join(DATA_DIR, \"Concomitant_Medication_Log_09Feb2025.csv\"), low_memory=False)\n",
    "print('Lenght of the dataset:', len(medications))\n",
    "medications.head()"
   ]
  },
  {
   "cell_type": "markdown",
   "metadata": {
    "id": "OFappR6esnm4"
   },
   "source": [
    "Looking at an example drawn from GLP-1 agonists (one recently published article suggested they could be neuroprotective \n",
    "\n",
    "Link: https://www.nejm.org/doi/full/10.1056/NEJMoa2312323"
   ]
  },
  {
   "cell_type": "code",
   "execution_count": null,
   "metadata": {
    "id": "bhwm8yMXaBqG"
   },
   "outputs": [],
   "source": [
    "# Getting columns with the diagnosis we want\n",
    "elements = ['liraglutide', 'victoza', 'saxenda']\n",
    "\n",
    "# Converting 'elements' to lowercase to ensure case-insensitive matching\n",
    "elements_lower = [element.lower() for element in elements]\n",
    "\n",
    "# Selecting the patients that have one of the criterias\n",
    "tempdf = medications[medications['CMTRT'].astype(str).str.lower().apply(lambda x: any(element in x for element in elements))]\n",
    "print('Lenght of patients with the desired condition:', len(tempdf))\n",
    "print('Different values of the obtained dataset:', list(set(tempdf['CMTRT']))) # Printing without duplicates\n",
    "tempdf.head()"
   ]
  },
  {
   "cell_type": "markdown",
   "metadata": {
    "id": "vJ-OWQJJY6iV"
   },
   "source": [
    "## Creating doses for medications\n",
    "\n",
    "There are multiple ways to describe a medication dosage. This part of the code tries to interpret the strings written in an organized manner to consolidate everything"
   ]
  },
  {
   "cell_type": "code",
   "execution_count": null,
   "metadata": {
    "id": "wzjlNTRnDdid"
   },
   "outputs": [],
   "source": [
    "# Identifying different pattern in informing dosage\n",
    "top_elements = medications['CMDOSFRQ'].value_counts().index[:100] # This is the number of unique entries\n",
    "\n",
    "# Criar um novo dataset com um exemplo de cada um dos 30 elementos mais comuns\n",
    "new_df = medications[medications['CMDOSFRQ'].isin(top_elements)].drop_duplicates(subset=['CMDOSFRQ'])\n",
    "\n",
    "# Show\n",
    "list(new_df['CMDOSFRQ'].value_counts().index.tolist())"
   ]
  },
  {
   "cell_type": "code",
   "execution_count": null,
   "metadata": {
    "id": "t8n2LYx2Y_Uv"
   },
   "outputs": [],
   "source": [
    "# Doses dict setting\n",
    "# This is a dict that uses the most common used terms to describe each regimen\n",
    "# The keys are values that will be used to multiply the dose\n",
    "# The values are names that represent those concepts\n",
    "\n",
    "daily_dose = {\n",
    "    '1': ['QD', 'SD', 'OD', 'QHS', 'DAILY', '1X', 'HS',\n",
    "          'X1', 'QAM', 'QPM', '1XQD', 'NOCTE', '1 X QD', '1X WEEKLY',\n",
    "          ' QD', 'QS', 'X1', 'QPM', 'QAM', 'QDHS'],  # Once daily\n",
    "    '2': ['BID', '2X', 'BD', 'QAD', '2 X DAILY', 'TDS', 'TT OD'],  # Twice daily\n",
    "    '3': ['TID', '3/DAY', '3X', 'TDS'],  # Thrice daily\n",
    "    '4': ['QID', 'QDS', '4/DAY', 'Q6H', '4X', '4XD', '4XQD', 'TDS'],  # Four times a day\n",
    "    '6': ['Q4H', '6XD', '6XDAY'],  # Six times a day\n",
    "    '0.5': ['QOD', 'EOD', 'QAD', 'Q48H', 'ALT DAY', 'Q2 DAYS', 'Q 2 DAYS'],  # Every two days\n",
    "    '0.714': ['TIW', '3X/WEEK', '3X WEEK', '3X A WEEK'],  # Thrice a week\n",
    "    '0.429': ['5X WEEK', '5XWK'],  # Five times a week\n",
    "    '0.2857': ['BIW', '2/WEEK', '2X WEEK'],  # Twice a week\n",
    "    '0.1429': ['QW', 'QWK', 'WEEKLY', 'QWEEK', 'X1/WK', '1XWK', 'QIW', '1X WEEK', 'WK', '1/WK',\n",
    "               'Q WK', '1XWEEK', '1/WEEK', 'Q1WK', 'QWEEKLY'],  # Weekly\n",
    "    '0.0714': ['Q2WK'], # Every two weeks\n",
    "    '0.0333': ['MONTHLY', 'QM', '1XMONTH', '1/MONTH', 'QMONTH', 'Q4WK', '1X MONTH', 'MONTH'],  # Monthly\n",
    "    '0.0111': ['Q3MONTH', 'Q3MON', 'Q 3 MONTHS', 'Q3 MOS', 'Q3M','EVERY 3 MO', 'Q3MOS', 'Q3 MONTH'],  # Every three months\n",
    "    '0.0056': ['Q6M', 'Q6MONTHS', 'Q 6 MONTHS', 'Q6MTHS']  # Every 6 months\n",
    "}"
   ]
  },
  {
   "cell_type": "code",
   "execution_count": null,
   "metadata": {
    "id": "XOaOAyVHY8Cx"
   },
   "outputs": [],
   "source": [
    "# Convert CMDOSFRQ to lowercase\n",
    "medications['CMDOSFRQ_lower'] = medications['CMDOSFRQ'].str.lower()\n",
    "\n",
    "# Function to find the multiplication factor\n",
    "def get_multiplication_factor(dosage_frequency):\n",
    "    for factor, terms in daily_dose.items():\n",
    "        if dosage_frequency in [term.lower() for term in terms]:\n",
    "            return float(factor)\n",
    "    return None  # Default factor if no match is found\n",
    "\n",
    "# Apply the function to each row\n",
    "medications['dose_factor'] = medications['CMDOSFRQ_lower'].apply(get_multiplication_factor)\n",
    "\n",
    "# Calculate the final dose\n",
    "medications['final_dose'] = medications['CMDOSE'] * medications['dose_factor']\n",
    "\n",
    "# Drop the helper column\n",
    "medications = medications.drop(columns=['CMDOSFRQ_lower'])\n",
    "\n",
    "# Display the result\n",
    "medications[['CMTRT','CMDOSE','CMDOSU','CMDOSFRQ','dose_factor','final_dose']].head(5)"
   ]
  },
  {
   "cell_type": "markdown",
   "metadata": {
    "id": "N2xc5Fv2hHGj"
   },
   "source": [
    "Now let's do some testing with groups of medications"
   ]
  },
  {
   "cell_type": "code",
   "execution_count": null,
   "metadata": {
    "id": "Nx8qTx3uhJJA"
   },
   "outputs": [],
   "source": [
    "# Combined dictionary of medications with prefixes\n",
    "medications_dict = {\n",
    "    'glp1_Exenatide': ['exenatide', 'byetta', 'bydureon'],\n",
    "    'glp1_Liraglutide': ['liraglutide', 'victoza', 'saxenda', 'Xultophy'],\n",
    "    'glp1_Lixisenatide': ['lixisenatide', 'adlyxin', 'lyxumia', 'Soliqua'],\n",
    "    'glp1_Dulaglutide': ['dulaglutide', 'trulicity'],\n",
    "    'glp1_Semaglutide': ['semaglutide', 'ozempic', 'rybelsus', 'Wegovy'],\n",
    "    'glp1_Albiglutide': ['albiglutide', 'tanzeum', 'eperzan'],\n",
    "    'glp1_Efpeglenatide': ['efpeglenatide'],\n",
    "    'glp1_Tirzepatide': ['tirzepatide', 'mounjaro', 'zepbound']}"
   ]
  },
  {
   "cell_type": "markdown",
   "metadata": {
    "id": "J--dmvkUjlbH"
   },
   "source": [
    "## Running the function\n",
    "\n",
    "This function will identify, at each specific timepoint, if the patient was taking the medication or not. It will also try to calculate the dosage of that specific medication the patient was taking at each timepoint.\n",
    "\n",
    "At each medication's column, whenever positive, it will also calculate how many years have passed since the patient's initiation of motor symptoms and that specific timepoint being analysed. So, for example, if a patient is taking liraglutide roughly since the year his disease started and his first BL or SC visit is 2 years after the beginning of his symptoms, that column for BL or SC will be 2."
   ]
  },
  {
   "cell_type": "code",
   "execution_count": null,
   "metadata": {
    "id": "8SwqjuU1jlI3"
   },
   "outputs": [],
   "source": [
    "# Convert 'CMTRT' to lowercase to ensure case-insensitive matching\n",
    "medications['CMTRT_lower'] = medications['CMTRT'].str.lower()\n",
    "\n",
    "# Merge conditions and events on 'PATNO'\n",
    "merged_df = pd.merge(MDS3, medications, on='PATNO', suffixes=('_event', '_medication'))\n",
    "\n",
    "# Initialize an empty list to collect results\n",
    "results = []\n",
    "\n",
    "# Function to check if any medication term is in the medication name\n",
    "def check_medications(medication_name):\n",
    "    if not isinstance(medication_name, str):\n",
    "        return []\n",
    "    medications_found = []\n",
    "    for medication, terms in medications_dict.items():\n",
    "        if any(term in medication_name for term in terms):\n",
    "            medications_found.append(medication)\n",
    "    return medications_found\n",
    "\n",
    "# Determine the active status and dose of each medication for each timepoint\n",
    "for index, row in merged_df.iterrows():\n",
    "    diag_date = pd.to_datetime(row['STARTDT'], format='%m/%Y')\n",
    "    info_date = pd.to_datetime(row['INFODT'], format='%m/%Y')\n",
    "    resolved_date = pd.to_datetime(row['STOPDT'], format='%m/%Y') if pd.notna(row['STOPDT']) else None\n",
    "\n",
    "    # Initialize medications for this patient and event\n",
    "    patient_medication = {'PATNO': row['PATNO'], 'EVENT_ID': row['EVENT_ID_event']}\n",
    "    patient_medication_dose = {'PATNO': row['PATNO'], 'EVENT_ID': row['EVENT_ID_event']}\n",
    "    for medication in medications_dict.keys():\n",
    "        patient_medication[medication] = 0\n",
    "        patient_medication_dose[medication + '_dose'] = None\n",
    "\n",
    "    # Calculate years since diagnosis for \"BL\" and \"SC\" timepoints, only if the diagnosis was discovered on or before the timepoint\n",
    "    if row['EVENT_ID_event'] in ['BL', 'SC']:\n",
    "        if diag_date <= info_date:\n",
    "            years_since_diag = (info_date.year - diag_date.year) + (info_date.month - diag_date.month) / 12.0\n",
    "            medications_found = check_medications(row['CMTRT_lower'])\n",
    "            for medication in medications_found:\n",
    "                patient_medication[medication] = years_since_diag\n",
    "    else:\n",
    "        # Check if the medication was active at the timepoint\n",
    "        if (diag_date <= info_date) and (resolved_date is None or resolved_date >= info_date):\n",
    "            medications_found = check_medications(row['CMTRT_lower'])\n",
    "            for medication in medications_found:\n",
    "                patient_medication[medication] = 1\n",
    "                patient_medication_dose[medication + '_dose'] = row['final_dose']\n",
    "\n",
    "    # Collect the result for this patient and event\n",
    "    results.append({**patient_medication, **patient_medication_dose})\n",
    "\n",
    "# Create a DataFrame from the collected results\n",
    "patients_medications = pd.DataFrame(results)\n",
    "\n",
    "# Define columns to check for \"True\" values\n",
    "columns_to_check = list(medications_dict.keys())\n",
    "\n",
    "# Create a column that will be True if any of the columns_to_check are True\n",
    "patients_medications['any_true'] = patients_medications[columns_to_check].any(axis=1)\n",
    "\n",
    "# Sort by PATNO, EVENT_ID and the 'any_true' column\n",
    "df_sorted = patients_medications.sort_values(by=['PATNO', 'EVENT_ID', 'any_true'], ascending=[True, True, False])\n",
    "\n",
    "# Drop duplicates, keeping the first (which has 'True' if there was any)\n",
    "df_deduplicated = df_sorted.drop_duplicates(subset=['PATNO', 'EVENT_ID'], keep='first')\n",
    "\n",
    "# Drop the helper column\n",
    "patients_medications_correct = df_deduplicated.drop(columns=['any_true'])\n",
    "\n",
    "# Display the result\n",
    "patients_medications_correct.head()"
   ]
  },
  {
   "cell_type": "markdown",
   "metadata": {
    "id": "r4JupHR6tm8Q"
   },
   "source": [
    "Checking moments in which a patient is taking Liraglutide"
   ]
  },
  {
   "cell_type": "code",
   "execution_count": null,
   "metadata": {
    "id": "KjBXk4vtt1iv"
   },
   "outputs": [],
   "source": [
    "# Identifying which patients ever had a diagnosis of osteoporosis\n",
    "print('Number of entries with liraglutide use:', len(patients_medications_correct[patients_medications_correct['glp1_Liraglutide'] > 1]))\n",
    "patients_medications_correct[patients_medications_correct['glp1_Liraglutide'] > 1].head()"
   ]
  },
  {
   "cell_type": "markdown",
   "metadata": {
    "id": "8GWna-3IuQUO"
   },
   "source": [
    "## Testing"
   ]
  },
  {
   "cell_type": "markdown",
   "metadata": {
    "id": "vthfHTNLuQUU"
   },
   "source": [
    "Doing some testing to confirm the accuracy of these measures"
   ]
  },
  {
   "cell_type": "code",
   "execution_count": null,
   "metadata": {
    "id": "IY2xU-uDuQUU"
   },
   "outputs": [],
   "source": [
    "# Reshape the DataFrame to long format\n",
    "long_df = pd.melt(patients_medications_correct, id_vars=['PATNO', 'EVENT_ID'], var_name='glp1_Liraglutide', value_name='Status')\n",
    "\n",
    "# Group by PATNO and Condition, then check if there are both True and False values\n",
    "grouped = long_df.groupby(['PATNO', 'glp1_Liraglutide'])['Status'].agg(['any', 'all']).reset_index()\n",
    "\n",
    "# Find PATNOs with both True and False statuses for the same condition\n",
    "testing = grouped[(grouped['any'] == True) & (grouped['all'] == False)]\n",
    "testing.head(10)"
   ]
  },
  {
   "cell_type": "markdown",
   "metadata": {
    "id": "ddjjdDlxwVpk"
   },
   "source": [
    "For privacy reasons, I can't share individual patient's data, even as a comment section. I encourage you to look out for some PATNOs for the description of their conditions (see code above) and confirm in the original dataset if the code was able to extract it!"
   ]
  },
  {
   "cell_type": "markdown",
   "metadata": {
    "id": "R5vOXDHybwJ8"
   },
   "source": [
    "Exporting"
   ]
  },
  {
   "cell_type": "code",
   "execution_count": null,
   "metadata": {
    "id": "_jXqy4AnwjNF"
   },
   "outputs": [],
   "source": [
    "# Exporting\n",
    "patients_medications_correct.to_csv(os.path.join(PRIV_DIR, \"Non_PD_Medications_GLP1.csv\"), index=False)"
   ]
  }
 ],
 "metadata": {
  "colab": {
   "authorship_tag": "ABX9TyMI5LItW6Q6uGsdLm7BJvNB",
   "provenance": [],
   "toc_visible": true
  },
  "kernelspec": {
   "display_name": "Python 3 (ipykernel)",
   "language": "python",
   "name": "python3"
  },
  "language_info": {
   "codemirror_mode": {
    "name": "ipython",
    "version": 3
   },
   "file_extension": ".py",
   "mimetype": "text/x-python",
   "name": "python",
   "nbconvert_exporter": "python",
   "pygments_lexer": "ipython3",
   "version": "3.12.0"
  }
 },
 "nbformat": 4,
 "nbformat_minor": 4
}
